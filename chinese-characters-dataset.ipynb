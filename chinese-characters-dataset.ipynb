{
 "cells": [
  {
   "cell_type": "markdown",
   "id": "3dc3fcae",
   "metadata": {
    "papermill": {
     "duration": 0.020435,
     "end_time": "2023-10-15T06:38:54.629324",
     "exception": false,
     "start_time": "2023-10-15T06:38:54.608889",
     "status": "completed"
    },
    "tags": []
   },
   "source": [
    "# Let's enjoy <font color=\"Blue\">Chinese charactors' dataset</font>!"
   ]
  },
  {
   "cell_type": "code",
   "execution_count": 1,
   "id": "9d721b84",
   "metadata": {
    "execution": {
     "iopub.execute_input": "2023-10-15T06:38:54.673732Z",
     "iopub.status.busy": "2023-10-15T06:38:54.673102Z",
     "iopub.status.idle": "2023-10-15T06:38:54.682286Z",
     "shell.execute_reply": "2023-10-15T06:38:54.682688Z",
     "shell.execute_reply.started": "2023-10-15T06:34:27.420322Z"
    },
    "papermill": {
     "duration": 0.037421,
     "end_time": "2023-10-15T06:38:54.682949",
     "exception": false,
     "start_time": "2023-10-15T06:38:54.645528",
     "status": "completed"
    },
    "tags": []
   },
   "outputs": [
    {
     "name": "stdout",
     "output_type": "stream",
     "text": [
      "/kaggle/input/chinese-mnist-digit-recognizer/chineseMNIST.csv\n"
     ]
    }
   ],
   "source": [
    "#Follow Kaggle's way to load datasets.\n",
    "import os\n",
    "for dirname, _, filenames in os.walk('/kaggle/input'):\n",
    "    for filename in filenames:\n",
    "        print(os.path.join(dirname, filename))"
   ]
  },
  {
   "cell_type": "markdown",
   "id": "637f6606",
   "metadata": {
    "papermill": {
     "duration": 0.036553,
     "end_time": "2023-10-15T06:38:54.737288",
     "exception": false,
     "start_time": "2023-10-15T06:38:54.700735",
     "status": "completed"
    },
    "tags": []
   },
   "source": [
    "## 1. Import libraries"
   ]
  },
  {
   "cell_type": "code",
   "execution_count": 2,
   "id": "28a5d741",
   "metadata": {
    "execution": {
     "iopub.execute_input": "2023-10-15T06:38:54.792554Z",
     "iopub.status.busy": "2023-10-15T06:38:54.791808Z",
     "iopub.status.idle": "2023-10-15T06:39:00.608412Z",
     "shell.execute_reply": "2023-10-15T06:39:00.607888Z",
     "shell.execute_reply.started": "2023-10-15T06:34:28.614889Z"
    },
    "papermill": {
     "duration": 5.840862,
     "end_time": "2023-10-15T06:39:00.608553",
     "exception": false,
     "start_time": "2023-10-15T06:38:54.767691",
     "status": "completed"
    },
    "tags": []
   },
   "outputs": [],
   "source": [
    "#import libraries\n",
    "import numpy as np\n",
    "import pandas as pd\n",
    "import tensorflow as tf\n",
    "from tensorflow import keras as kr\n",
    "from tensorflow.keras.models import Sequential\n",
    "from tensorflow.keras.layers import Conv2D\n",
    "from tensorflow.keras.layers import MaxPooling2D\n",
    "from tensorflow.keras.layers import Dense, Activation, Flatten\n",
    "from tensorflow.keras.optimizers import Adam\n",
    "from keras.utils import np_utils\n",
    "import matplotlib.pyplot as plt\n",
    "from sklearn.model_selection import train_test_split"
   ]
  },
  {
   "cell_type": "markdown",
   "id": "07f2774f",
   "metadata": {
    "papermill": {
     "duration": 0.015226,
     "end_time": "2023-10-15T06:39:00.639932",
     "exception": false,
     "start_time": "2023-10-15T06:39:00.624706",
     "status": "completed"
    },
    "tags": []
   },
   "source": [
    "## 2. Read the dataset as Padas DataFrame"
   ]
  },
  {
   "cell_type": "code",
   "execution_count": 3,
   "id": "dccdf15d",
   "metadata": {
    "execution": {
     "iopub.execute_input": "2023-10-15T06:39:00.675514Z",
     "iopub.status.busy": "2023-10-15T06:39:00.674914Z",
     "iopub.status.idle": "2023-10-15T06:39:10.198181Z",
     "shell.execute_reply": "2023-10-15T06:39:10.198635Z",
     "shell.execute_reply.started": "2023-10-15T06:34:34.244301Z"
    },
    "papermill": {
     "duration": 9.543604,
     "end_time": "2023-10-15T06:39:10.198790",
     "exception": false,
     "start_time": "2023-10-15T06:39:00.655186",
     "status": "completed"
    },
    "tags": []
   },
   "outputs": [
    {
     "data": {
      "text/html": [
       "<div>\n",
       "<style scoped>\n",
       "    .dataframe tbody tr th:only-of-type {\n",
       "        vertical-align: middle;\n",
       "    }\n",
       "\n",
       "    .dataframe tbody tr th {\n",
       "        vertical-align: top;\n",
       "    }\n",
       "\n",
       "    .dataframe thead th {\n",
       "        text-align: right;\n",
       "    }\n",
       "</style>\n",
       "<table border=\"1\" class=\"dataframe\">\n",
       "  <thead>\n",
       "    <tr style=\"text-align: right;\">\n",
       "      <th></th>\n",
       "      <th>pixel_0</th>\n",
       "      <th>pixel_1</th>\n",
       "      <th>pixel_2</th>\n",
       "      <th>pixel_3</th>\n",
       "      <th>pixel_4</th>\n",
       "      <th>pixel_5</th>\n",
       "      <th>pixel_6</th>\n",
       "      <th>pixel_7</th>\n",
       "      <th>pixel_8</th>\n",
       "      <th>pixel_9</th>\n",
       "      <th>...</th>\n",
       "      <th>pixel_4088</th>\n",
       "      <th>pixel_4089</th>\n",
       "      <th>pixel_4090</th>\n",
       "      <th>pixel_4091</th>\n",
       "      <th>pixel_4092</th>\n",
       "      <th>pixel_4093</th>\n",
       "      <th>pixel_4094</th>\n",
       "      <th>pixel_4095</th>\n",
       "      <th>label</th>\n",
       "      <th>character</th>\n",
       "    </tr>\n",
       "  </thead>\n",
       "  <tbody>\n",
       "    <tr>\n",
       "      <th>0</th>\n",
       "      <td>0</td>\n",
       "      <td>0</td>\n",
       "      <td>0</td>\n",
       "      <td>0</td>\n",
       "      <td>0</td>\n",
       "      <td>0</td>\n",
       "      <td>0</td>\n",
       "      <td>0</td>\n",
       "      <td>0</td>\n",
       "      <td>0</td>\n",
       "      <td>...</td>\n",
       "      <td>0</td>\n",
       "      <td>0</td>\n",
       "      <td>0</td>\n",
       "      <td>0</td>\n",
       "      <td>0</td>\n",
       "      <td>0</td>\n",
       "      <td>0</td>\n",
       "      <td>0</td>\n",
       "      <td>9</td>\n",
       "      <td>九</td>\n",
       "    </tr>\n",
       "    <tr>\n",
       "      <th>1</th>\n",
       "      <td>0</td>\n",
       "      <td>0</td>\n",
       "      <td>0</td>\n",
       "      <td>0</td>\n",
       "      <td>0</td>\n",
       "      <td>0</td>\n",
       "      <td>0</td>\n",
       "      <td>0</td>\n",
       "      <td>0</td>\n",
       "      <td>0</td>\n",
       "      <td>...</td>\n",
       "      <td>0</td>\n",
       "      <td>0</td>\n",
       "      <td>0</td>\n",
       "      <td>0</td>\n",
       "      <td>0</td>\n",
       "      <td>0</td>\n",
       "      <td>0</td>\n",
       "      <td>0</td>\n",
       "      <td>9</td>\n",
       "      <td>九</td>\n",
       "    </tr>\n",
       "    <tr>\n",
       "      <th>2</th>\n",
       "      <td>0</td>\n",
       "      <td>0</td>\n",
       "      <td>0</td>\n",
       "      <td>0</td>\n",
       "      <td>0</td>\n",
       "      <td>0</td>\n",
       "      <td>0</td>\n",
       "      <td>0</td>\n",
       "      <td>0</td>\n",
       "      <td>0</td>\n",
       "      <td>...</td>\n",
       "      <td>0</td>\n",
       "      <td>0</td>\n",
       "      <td>0</td>\n",
       "      <td>0</td>\n",
       "      <td>0</td>\n",
       "      <td>0</td>\n",
       "      <td>0</td>\n",
       "      <td>0</td>\n",
       "      <td>9</td>\n",
       "      <td>九</td>\n",
       "    </tr>\n",
       "    <tr>\n",
       "      <th>3</th>\n",
       "      <td>0</td>\n",
       "      <td>0</td>\n",
       "      <td>0</td>\n",
       "      <td>0</td>\n",
       "      <td>0</td>\n",
       "      <td>0</td>\n",
       "      <td>0</td>\n",
       "      <td>0</td>\n",
       "      <td>0</td>\n",
       "      <td>0</td>\n",
       "      <td>...</td>\n",
       "      <td>0</td>\n",
       "      <td>0</td>\n",
       "      <td>0</td>\n",
       "      <td>0</td>\n",
       "      <td>0</td>\n",
       "      <td>0</td>\n",
       "      <td>0</td>\n",
       "      <td>0</td>\n",
       "      <td>9</td>\n",
       "      <td>九</td>\n",
       "    </tr>\n",
       "    <tr>\n",
       "      <th>4</th>\n",
       "      <td>0</td>\n",
       "      <td>0</td>\n",
       "      <td>0</td>\n",
       "      <td>0</td>\n",
       "      <td>0</td>\n",
       "      <td>0</td>\n",
       "      <td>0</td>\n",
       "      <td>0</td>\n",
       "      <td>0</td>\n",
       "      <td>0</td>\n",
       "      <td>...</td>\n",
       "      <td>0</td>\n",
       "      <td>0</td>\n",
       "      <td>0</td>\n",
       "      <td>0</td>\n",
       "      <td>0</td>\n",
       "      <td>0</td>\n",
       "      <td>0</td>\n",
       "      <td>0</td>\n",
       "      <td>9</td>\n",
       "      <td>九</td>\n",
       "    </tr>\n",
       "    <tr>\n",
       "      <th>...</th>\n",
       "      <td>...</td>\n",
       "      <td>...</td>\n",
       "      <td>...</td>\n",
       "      <td>...</td>\n",
       "      <td>...</td>\n",
       "      <td>...</td>\n",
       "      <td>...</td>\n",
       "      <td>...</td>\n",
       "      <td>...</td>\n",
       "      <td>...</td>\n",
       "      <td>...</td>\n",
       "      <td>...</td>\n",
       "      <td>...</td>\n",
       "      <td>...</td>\n",
       "      <td>...</td>\n",
       "      <td>...</td>\n",
       "      <td>...</td>\n",
       "      <td>...</td>\n",
       "      <td>...</td>\n",
       "      <td>...</td>\n",
       "      <td>...</td>\n",
       "    </tr>\n",
       "    <tr>\n",
       "      <th>14995</th>\n",
       "      <td>0</td>\n",
       "      <td>0</td>\n",
       "      <td>0</td>\n",
       "      <td>0</td>\n",
       "      <td>0</td>\n",
       "      <td>0</td>\n",
       "      <td>0</td>\n",
       "      <td>0</td>\n",
       "      <td>0</td>\n",
       "      <td>0</td>\n",
       "      <td>...</td>\n",
       "      <td>0</td>\n",
       "      <td>0</td>\n",
       "      <td>0</td>\n",
       "      <td>0</td>\n",
       "      <td>0</td>\n",
       "      <td>0</td>\n",
       "      <td>0</td>\n",
       "      <td>0</td>\n",
       "      <td>8</td>\n",
       "      <td>八</td>\n",
       "    </tr>\n",
       "    <tr>\n",
       "      <th>14996</th>\n",
       "      <td>0</td>\n",
       "      <td>0</td>\n",
       "      <td>0</td>\n",
       "      <td>0</td>\n",
       "      <td>0</td>\n",
       "      <td>0</td>\n",
       "      <td>0</td>\n",
       "      <td>0</td>\n",
       "      <td>0</td>\n",
       "      <td>0</td>\n",
       "      <td>...</td>\n",
       "      <td>0</td>\n",
       "      <td>0</td>\n",
       "      <td>0</td>\n",
       "      <td>0</td>\n",
       "      <td>0</td>\n",
       "      <td>0</td>\n",
       "      <td>0</td>\n",
       "      <td>0</td>\n",
       "      <td>8</td>\n",
       "      <td>八</td>\n",
       "    </tr>\n",
       "    <tr>\n",
       "      <th>14997</th>\n",
       "      <td>0</td>\n",
       "      <td>0</td>\n",
       "      <td>0</td>\n",
       "      <td>0</td>\n",
       "      <td>0</td>\n",
       "      <td>0</td>\n",
       "      <td>0</td>\n",
       "      <td>0</td>\n",
       "      <td>0</td>\n",
       "      <td>0</td>\n",
       "      <td>...</td>\n",
       "      <td>0</td>\n",
       "      <td>0</td>\n",
       "      <td>0</td>\n",
       "      <td>0</td>\n",
       "      <td>0</td>\n",
       "      <td>0</td>\n",
       "      <td>0</td>\n",
       "      <td>0</td>\n",
       "      <td>8</td>\n",
       "      <td>八</td>\n",
       "    </tr>\n",
       "    <tr>\n",
       "      <th>14998</th>\n",
       "      <td>0</td>\n",
       "      <td>0</td>\n",
       "      <td>0</td>\n",
       "      <td>0</td>\n",
       "      <td>0</td>\n",
       "      <td>0</td>\n",
       "      <td>0</td>\n",
       "      <td>0</td>\n",
       "      <td>0</td>\n",
       "      <td>0</td>\n",
       "      <td>...</td>\n",
       "      <td>0</td>\n",
       "      <td>0</td>\n",
       "      <td>0</td>\n",
       "      <td>0</td>\n",
       "      <td>0</td>\n",
       "      <td>0</td>\n",
       "      <td>0</td>\n",
       "      <td>0</td>\n",
       "      <td>8</td>\n",
       "      <td>八</td>\n",
       "    </tr>\n",
       "    <tr>\n",
       "      <th>14999</th>\n",
       "      <td>0</td>\n",
       "      <td>0</td>\n",
       "      <td>0</td>\n",
       "      <td>0</td>\n",
       "      <td>0</td>\n",
       "      <td>0</td>\n",
       "      <td>0</td>\n",
       "      <td>0</td>\n",
       "      <td>0</td>\n",
       "      <td>0</td>\n",
       "      <td>...</td>\n",
       "      <td>0</td>\n",
       "      <td>0</td>\n",
       "      <td>0</td>\n",
       "      <td>0</td>\n",
       "      <td>0</td>\n",
       "      <td>0</td>\n",
       "      <td>0</td>\n",
       "      <td>0</td>\n",
       "      <td>8</td>\n",
       "      <td>八</td>\n",
       "    </tr>\n",
       "  </tbody>\n",
       "</table>\n",
       "<p>15000 rows × 4098 columns</p>\n",
       "</div>"
      ],
      "text/plain": [
       "       pixel_0  pixel_1  pixel_2  pixel_3  pixel_4  pixel_5  pixel_6  pixel_7  \\\n",
       "0            0        0        0        0        0        0        0        0   \n",
       "1            0        0        0        0        0        0        0        0   \n",
       "2            0        0        0        0        0        0        0        0   \n",
       "3            0        0        0        0        0        0        0        0   \n",
       "4            0        0        0        0        0        0        0        0   \n",
       "...        ...      ...      ...      ...      ...      ...      ...      ...   \n",
       "14995        0        0        0        0        0        0        0        0   \n",
       "14996        0        0        0        0        0        0        0        0   \n",
       "14997        0        0        0        0        0        0        0        0   \n",
       "14998        0        0        0        0        0        0        0        0   \n",
       "14999        0        0        0        0        0        0        0        0   \n",
       "\n",
       "       pixel_8  pixel_9  ...  pixel_4088  pixel_4089  pixel_4090  pixel_4091  \\\n",
       "0            0        0  ...           0           0           0           0   \n",
       "1            0        0  ...           0           0           0           0   \n",
       "2            0        0  ...           0           0           0           0   \n",
       "3            0        0  ...           0           0           0           0   \n",
       "4            0        0  ...           0           0           0           0   \n",
       "...        ...      ...  ...         ...         ...         ...         ...   \n",
       "14995        0        0  ...           0           0           0           0   \n",
       "14996        0        0  ...           0           0           0           0   \n",
       "14997        0        0  ...           0           0           0           0   \n",
       "14998        0        0  ...           0           0           0           0   \n",
       "14999        0        0  ...           0           0           0           0   \n",
       "\n",
       "       pixel_4092  pixel_4093  pixel_4094  pixel_4095  label  character  \n",
       "0               0           0           0           0      9          九  \n",
       "1               0           0           0           0      9          九  \n",
       "2               0           0           0           0      9          九  \n",
       "3               0           0           0           0      9          九  \n",
       "4               0           0           0           0      9          九  \n",
       "...           ...         ...         ...         ...    ...        ...  \n",
       "14995           0           0           0           0      8          八  \n",
       "14996           0           0           0           0      8          八  \n",
       "14997           0           0           0           0      8          八  \n",
       "14998           0           0           0           0      8          八  \n",
       "14999           0           0           0           0      8          八  \n",
       "\n",
       "[15000 rows x 4098 columns]"
      ]
     },
     "execution_count": 3,
     "metadata": {},
     "output_type": "execute_result"
    }
   ],
   "source": [
    "#change the dataset into Pandas dataframe\n",
    "import pandas as pd\n",
    "dataset = pd.read_csv(\"/kaggle/input/chinese-mnist-digit-recognizer/chineseMNIST.csv\")\n",
    "dataset"
   ]
  },
  {
   "cell_type": "markdown",
   "id": "d87ab98d",
   "metadata": {
    "papermill": {
     "duration": 0.016486,
     "end_time": "2023-10-15T06:39:10.232241",
     "exception": false,
     "start_time": "2023-10-15T06:39:10.215755",
     "status": "completed"
    },
    "tags": []
   },
   "source": [
    "## 3. Let's start labelencoding.etc!"
   ]
  },
  {
   "cell_type": "code",
   "execution_count": 4,
   "id": "ffa376e6",
   "metadata": {
    "execution": {
     "iopub.execute_input": "2023-10-15T06:39:10.276629Z",
     "iopub.status.busy": "2023-10-15T06:39:10.276005Z",
     "iopub.status.idle": "2023-10-15T06:39:10.283348Z",
     "shell.execute_reply": "2023-10-15T06:39:10.282843Z",
     "shell.execute_reply.started": "2023-10-15T06:34:43.668670Z"
    },
    "papermill": {
     "duration": 0.034298,
     "end_time": "2023-10-15T06:39:10.283483",
     "exception": false,
     "start_time": "2023-10-15T06:39:10.249185",
     "status": "completed"
    },
    "tags": []
   },
   "outputs": [
    {
     "name": "stdout",
     "output_type": "stream",
     "text": [
      "This dataset has following true labels,  ['一' '七' '万' '三' '九' '二' '五' '亿' '八' '六' '十' '千' '四' '百' '零']\n"
     ]
    }
   ],
   "source": [
    "#Let's start labelencoding!\n",
    "from sklearn.preprocessing import LabelEncoder\n",
    "le = LabelEncoder()\n",
    "encoded = le.fit_transform(dataset['character'].values)\n",
    "decoded = le.inverse_transform(encoded)\n",
    "dataset['character2'] = encoded\n",
    "print('This dataset has following true labels, ', le.classes_)"
   ]
  },
  {
   "cell_type": "markdown",
   "id": "be2ceb36",
   "metadata": {
    "papermill": {
     "duration": 0.017516,
     "end_time": "2023-10-15T06:39:10.318652",
     "exception": false,
     "start_time": "2023-10-15T06:39:10.301136",
     "status": "completed"
    },
    "tags": []
   },
   "source": [
    "### Now I know this dataset has 15 classifications."
   ]
  },
  {
   "cell_type": "markdown",
   "id": "be9ba561",
   "metadata": {
    "papermill": {
     "duration": 0.018153,
     "end_time": "2023-10-15T06:39:10.354697",
     "exception": false,
     "start_time": "2023-10-15T06:39:10.336544",
     "status": "completed"
    },
    "tags": []
   },
   "source": [
    "## 4.Let's make train data and test data!"
   ]
  },
  {
   "cell_type": "code",
   "execution_count": 5,
   "id": "48293003",
   "metadata": {
    "execution": {
     "iopub.execute_input": "2023-10-15T06:39:10.394493Z",
     "iopub.status.busy": "2023-10-15T06:39:10.393571Z",
     "iopub.status.idle": "2023-10-15T06:39:10.396685Z",
     "shell.execute_reply": "2023-10-15T06:39:10.396221Z",
     "shell.execute_reply.started": "2023-10-15T06:34:43.683076Z"
    },
    "papermill": {
     "duration": 0.024828,
     "end_time": "2023-10-15T06:39:10.396810",
     "exception": false,
     "start_time": "2023-10-15T06:39:10.371982",
     "status": "completed"
    },
    "tags": []
   },
   "outputs": [],
   "source": [
    "#Then, make a dictionary. \n",
    "dic={0:'一',1:'七',2:'万',3:'三',4:'九',5:'二',6:'五',7:'亿',8:'八',9:'六',10:'十',11:'千',12:'四',13:'百',14:'零'}"
   ]
  },
  {
   "cell_type": "code",
   "execution_count": 6,
   "id": "4f958104",
   "metadata": {
    "execution": {
     "iopub.execute_input": "2023-10-15T06:39:10.439509Z",
     "iopub.status.busy": "2023-10-15T06:39:10.438104Z",
     "iopub.status.idle": "2023-10-15T06:39:11.462375Z",
     "shell.execute_reply": "2023-10-15T06:39:11.461711Z",
     "shell.execute_reply.started": "2023-10-15T06:34:43.694091Z"
    },
    "papermill": {
     "duration": 1.048586,
     "end_time": "2023-10-15T06:39:11.462515",
     "exception": false,
     "start_time": "2023-10-15T06:39:10.413929",
     "status": "completed"
    },
    "tags": []
   },
   "outputs": [],
   "source": [
    "#Shuffle data :-)\n",
    "dataset_shuffled = dataset.sample(frac=1, random_state=0)\n",
    "#split the shuffled dataset into explanation data and target data.\n",
    "x =dataset_shuffled.iloc[:,0:4096]\n",
    "y =dataset_shuffled.iloc[:,[4098]]\n",
    "#Let's use sklearn's train_test_split function\n",
    "x_train, x_test, y_train, y_test = train_test_split(x, y, test_size=0.2)"
   ]
  },
  {
   "cell_type": "code",
   "execution_count": 7,
   "id": "c7683046",
   "metadata": {
    "execution": {
     "iopub.execute_input": "2023-10-15T06:39:11.503314Z",
     "iopub.status.busy": "2023-10-15T06:39:11.502153Z",
     "iopub.status.idle": "2023-10-15T06:39:11.761730Z",
     "shell.execute_reply": "2023-10-15T06:39:11.761207Z",
     "shell.execute_reply.started": "2023-10-15T06:34:44.695178Z"
    },
    "papermill": {
     "duration": 0.281883,
     "end_time": "2023-10-15T06:39:11.761901",
     "exception": false,
     "start_time": "2023-10-15T06:39:11.480018",
     "status": "completed"
    },
    "tags": []
   },
   "outputs": [],
   "source": [
    "#normalizes data from 1 to 0. \n",
    "x_train = x_train.astype('float32')/255\n",
    "y_train = y_train.astype('float32')\n",
    "x_test = x_test.astype('float32')/255\n",
    "y_test = y_test.astype('float32')"
   ]
  },
  {
   "cell_type": "markdown",
   "id": "87277fca",
   "metadata": {
    "papermill": {
     "duration": 0.018001,
     "end_time": "2023-10-15T06:39:11.797857",
     "exception": false,
     "start_time": "2023-10-15T06:39:11.779856",
     "status": "completed"
    },
    "tags": []
   },
   "source": [
    "## 5. Check the shape of dataset' images"
   ]
  },
  {
   "cell_type": "code",
   "execution_count": 8,
   "id": "71fcae2a",
   "metadata": {
    "execution": {
     "iopub.execute_input": "2023-10-15T06:39:11.842497Z",
     "iopub.status.busy": "2023-10-15T06:39:11.841628Z",
     "iopub.status.idle": "2023-10-15T06:39:11.845033Z",
     "shell.execute_reply": "2023-10-15T06:39:11.845530Z",
     "shell.execute_reply.started": "2023-10-15T06:34:44.947656Z"
    },
    "papermill": {
     "duration": 0.026817,
     "end_time": "2023-10-15T06:39:11.845694",
     "exception": false,
     "start_time": "2023-10-15T06:39:11.818877",
     "status": "completed"
    },
    "tags": []
   },
   "outputs": [
    {
     "data": {
      "text/plain": [
       "64.0"
      ]
     },
     "execution_count": 8,
     "metadata": {},
     "output_type": "execute_result"
    }
   ],
   "source": [
    "#Check the shape of dataset' images\n",
    "import numpy as np\n",
    "np.sqrt(4096)"
   ]
  },
  {
   "cell_type": "markdown",
   "id": "57209a4b",
   "metadata": {
    "papermill": {
     "duration": 0.017847,
     "end_time": "2023-10-15T06:39:11.882042",
     "exception": false,
     "start_time": "2023-10-15T06:39:11.864195",
     "status": "completed"
    },
    "tags": []
   },
   "source": [
    "### Now I know this dataset has 64*64 images."
   ]
  },
  {
   "cell_type": "markdown",
   "id": "af3030fe",
   "metadata": {
    "papermill": {
     "duration": 0.017087,
     "end_time": "2023-10-15T06:39:11.917274",
     "exception": false,
     "start_time": "2023-10-15T06:39:11.900187",
     "status": "completed"
    },
    "tags": []
   },
   "source": [
    "<HR>\n",
    "By the way, Let's check what kinda Chinese charactors the dataset has!\n",
    "<HR>"
   ]
  },
  {
   "cell_type": "markdown",
   "id": "2d81758e",
   "metadata": {
    "papermill": {
     "duration": 0.017103,
     "end_time": "2023-10-15T06:39:11.951660",
     "exception": false,
     "start_time": "2023-10-15T06:39:11.934557",
     "status": "completed"
    },
    "tags": []
   },
   "source": [
    "## 6. Let's check real images of the dataset."
   ]
  },
  {
   "cell_type": "code",
   "execution_count": 9,
   "id": "2455d830",
   "metadata": {
    "execution": {
     "iopub.execute_input": "2023-10-15T06:39:12.007923Z",
     "iopub.status.busy": "2023-10-15T06:39:12.006776Z",
     "iopub.status.idle": "2023-10-15T06:39:12.404205Z",
     "shell.execute_reply": "2023-10-15T06:39:12.404640Z",
     "shell.execute_reply.started": "2023-10-15T06:34:44.956913Z"
    },
    "papermill": {
     "duration": 0.435043,
     "end_time": "2023-10-15T06:39:12.404807",
     "exception": false,
     "start_time": "2023-10-15T06:39:11.969764",
     "status": "completed"
    },
    "tags": []
   },
   "outputs": [
    {
     "data": {
      "image/png": "[encoded data removed]",
      "text/plain": [
       "<Figure size 432x288 with 1 Axes>"
      ]
     },
     "metadata": {
      "needs_background": "light"
     },
     "output_type": "display_data"
    },
    {
     "data": {
      "image/png": "[encoded data removed]",
      "text/plain": [
       "<Figure size 432x288 with 1 Axes>"
      ]
     },
     "metadata": {
      "needs_background": "light"
     },
     "output_type": "display_data"
    },
    {
     "data": {
      "image/png": "[encoded data removed]",
      "text/plain": [
       "<Figure size 432x288 with 1 Axes>"
      ]
     },
     "metadata": {
      "needs_background": "light"
     },
     "output_type": "display_data"
    }
   ],
   "source": [
    "#import numpy and give a seed. \n",
    "import numpy as np\n",
    "np.random.seed(31)\n",
    "#Show 3 letter at random and convert them into gray scale letters. \n",
    "for i in range(3):\n",
    "    plt.imshow(x_train.iloc[np.random.randint(0,15000)].values.reshape(64,64),cmap='Greys')\n",
    "    plt.show()"
   ]
  },
  {
   "cell_type": "code",
   "execution_count": 10,
   "id": "99d2399d",
   "metadata": {
    "execution": {
     "iopub.execute_input": "2023-10-15T06:39:12.449744Z",
     "iopub.status.busy": "2023-10-15T06:39:12.448415Z",
     "iopub.status.idle": "2023-10-15T06:39:12.536538Z",
     "shell.execute_reply": "2023-10-15T06:39:12.536014Z",
     "shell.execute_reply.started": "2023-10-15T06:34:45.302599Z"
    },
    "papermill": {
     "duration": 0.112737,
     "end_time": "2023-10-15T06:39:12.536679",
     "exception": false,
     "start_time": "2023-10-15T06:39:12.423942",
     "status": "completed"
    },
    "tags": []
   },
   "outputs": [],
   "source": [
    "#change data into numpy array\n",
    "x_train= x_train.to_numpy()\n",
    "y_train= y_train.to_numpy()\n",
    "x_test= x_test.to_numpy()\n",
    "y_test= y_test.to_numpy()\n",
    "\n",
    "#reshape train data and test data into 64 * 64 * 1channel\n",
    "x_train = x_train.reshape(x_train.shape[0], 64, 64, 1).astype('float32')\n",
    "x_test = x_test.reshape(x_test.shape[0], 64, 64, 1).astype('float32')"
   ]
  },
  {
   "cell_type": "code",
   "execution_count": 11,
   "id": "6427cf3e",
   "metadata": {
    "execution": {
     "iopub.execute_input": "2023-10-15T06:39:12.581315Z",
     "iopub.status.busy": "2023-10-15T06:39:12.580384Z",
     "iopub.status.idle": "2023-10-15T06:39:12.586001Z",
     "shell.execute_reply": "2023-10-15T06:39:12.585515Z",
     "shell.execute_reply.started": "2023-10-15T06:34:45.394155Z"
    },
    "papermill": {
     "duration": 0.029315,
     "end_time": "2023-10-15T06:39:12.586143",
     "exception": false,
     "start_time": "2023-10-15T06:39:12.556828",
     "status": "completed"
    },
    "tags": []
   },
   "outputs": [
    {
     "data": {
      "text/plain": [
       "15"
      ]
     },
     "execution_count": 11,
     "metadata": {},
     "output_type": "execute_result"
    }
   ],
   "source": [
    "#convert y_train and y_test into 15 categories\n",
    "y_train = kr.utils.to_categorical(y_train, 15)\n",
    "y_test = kr.utils.to_categorical(y_test, 15)\n",
    "num_classes = y_train.shape[1]\n",
    "num_classes"
   ]
  },
  {
   "cell_type": "markdown",
   "id": "7084aa34",
   "metadata": {
    "papermill": {
     "duration": 0.019044,
     "end_time": "2023-10-15T06:39:12.624421",
     "exception": false,
     "start_time": "2023-10-15T06:39:12.605377",
     "status": "completed"
    },
    "tags": []
   },
   "source": [
    "## 6. Build an ordinary \"Deep Learning\" model with CNN and maxpooling by using TensorFlow Keras."
   ]
  },
  {
   "cell_type": "code",
   "execution_count": 12,
   "id": "9c0d42dd",
   "metadata": {
    "execution": {
     "iopub.execute_input": "2023-10-15T06:39:12.668537Z",
     "iopub.status.busy": "2023-10-15T06:39:12.667840Z",
     "iopub.status.idle": "2023-10-15T06:39:14.993325Z",
     "shell.execute_reply": "2023-10-15T06:39:14.994102Z",
     "shell.execute_reply.started": "2023-10-15T06:34:45.404664Z"
    },
    "papermill": {
     "duration": 2.350721,
     "end_time": "2023-10-15T06:39:14.994354",
     "exception": false,
     "start_time": "2023-10-15T06:39:12.643633",
     "status": "completed"
    },
    "tags": []
   },
   "outputs": [
    {
     "name": "stdout",
     "output_type": "stream",
     "text": [
      "Model: \"sequential\"\n",
      "_________________________________________________________________\n",
      "Layer (type)                 Output Shape              Param #   \n",
      "=================================================================\n",
      "conv2d (Conv2D)              (None, 60, 60, 32)        832       \n",
      "_________________________________________________________________\n",
      "max_pooling2d (MaxPooling2D) (None, 30, 30, 32)        0         \n",
      "_________________________________________________________________\n",
      "flatten (Flatten)            (None, 28800)             0         \n",
      "_________________________________________________________________\n",
      "dense (Dense)                (None, 128)               3686528   \n",
      "_________________________________________________________________\n",
      "dense_1 (Dense)              (None, 15)                1935      \n",
      "=================================================================\n",
      "Total params: 3,689,295\n",
      "Trainable params: 3,689,295\n",
      "Non-trainable params: 0\n",
      "_________________________________________________________________\n",
      "None\n"
     ]
    }
   ],
   "source": [
    "#Build an ordinary \"Deep Learning\" model with CNN and maxpooling by using Keras.\n",
    "model = Sequential()\n",
    "model.add(Conv2D(32, (5, 5), input_shape=(64, 64, 1), activation='relu'))\n",
    "model.add(MaxPooling2D(pool_size=(2, 2)))\n",
    "model.add(Flatten())\n",
    "model.add(Dense(128, activation='relu'))\n",
    "model.add(Dense(num_classes, activation='softmax'))\n",
    "#Choose an optimizer and compile the model.\n",
    "model.compile(optimizer = Adam(learning_rate = 0.01), loss = 'categorical_crossentropy', metrics = ['accuracy'])\n",
    "#And print the summary of the model.\n",
    "print(model.summary())"
   ]
  },
  {
   "cell_type": "markdown",
   "id": "49c811ab",
   "metadata": {
    "papermill": {
     "duration": 0.026618,
     "end_time": "2023-10-15T06:39:15.063969",
     "exception": false,
     "start_time": "2023-10-15T06:39:15.037351",
     "status": "completed"
    },
    "tags": []
   },
   "source": [
    "## 7.Model Fitting"
   ]
  },
  {
   "cell_type": "code",
   "execution_count": 13,
   "id": "58508957",
   "metadata": {
    "execution": {
     "iopub.execute_input": "2023-10-15T06:39:15.102777Z",
     "iopub.status.busy": "2023-10-15T06:39:15.102111Z",
     "iopub.status.idle": "2023-10-15T06:39:36.067665Z",
     "shell.execute_reply": "2023-10-15T06:39:36.067222Z",
     "shell.execute_reply.started": "2023-10-15T06:34:47.695023Z"
    },
    "papermill": {
     "duration": 20.986321,
     "end_time": "2023-10-15T06:39:36.067793",
     "exception": false,
     "start_time": "2023-10-15T06:39:15.081472",
     "status": "completed"
    },
    "tags": []
   },
   "outputs": [
    {
     "name": "stdout",
     "output_type": "stream",
     "text": [
      "Epoch 1/20\n",
      "94/94 [==============================] - 8s 7ms/step - loss: 2.0175 - accuracy: 0.3670\n",
      "Epoch 2/20\n",
      "94/94 [==============================] - 1s 9ms/step - loss: 0.3236 - accuracy: 0.8930\n",
      "Epoch 3/20\n",
      "94/94 [==============================] - 1s 9ms/step - loss: 0.1271 - accuracy: 0.9582\n",
      "Epoch 4/20\n",
      "94/94 [==============================] - 1s 7ms/step - loss: 0.0806 - accuracy: 0.9738\n",
      "Epoch 5/20\n",
      "94/94 [==============================] - 1s 7ms/step - loss: 0.0637 - accuracy: 0.9810\n",
      "Epoch 6/20\n",
      "94/94 [==============================] - 1s 7ms/step - loss: 0.0353 - accuracy: 0.9891\n",
      "Epoch 7/20\n",
      "94/94 [==============================] - 1s 7ms/step - loss: 0.0240 - accuracy: 0.9929\n",
      "Epoch 8/20\n",
      "94/94 [==============================] - 1s 7ms/step - loss: 0.0240 - accuracy: 0.9934\n",
      "Epoch 9/20\n",
      "94/94 [==============================] - 1s 7ms/step - loss: 0.0432 - accuracy: 0.9869\n",
      "Epoch 10/20\n",
      "94/94 [==============================] - 1s 7ms/step - loss: 0.0154 - accuracy: 0.9963\n",
      "Epoch 11/20\n",
      "94/94 [==============================] - 1s 7ms/step - loss: 0.0271 - accuracy: 0.9924\n",
      "Epoch 12/20\n",
      "94/94 [==============================] - 1s 7ms/step - loss: 0.0378 - accuracy: 0.9896\n",
      "Epoch 13/20\n",
      "94/94 [==============================] - 1s 7ms/step - loss: 0.0344 - accuracy: 0.9880\n",
      "Epoch 14/20\n",
      "94/94 [==============================] - 1s 7ms/step - loss: 0.0323 - accuracy: 0.9905\n",
      "Epoch 15/20\n",
      "94/94 [==============================] - 1s 7ms/step - loss: 0.0604 - accuracy: 0.9823\n",
      "Epoch 16/20\n",
      "94/94 [==============================] - 1s 7ms/step - loss: 0.0651 - accuracy: 0.9825\n",
      "Epoch 17/20\n",
      "94/94 [==============================] - 1s 7ms/step - loss: 0.0395 - accuracy: 0.9883\n",
      "Epoch 18/20\n",
      "94/94 [==============================] - 1s 7ms/step - loss: 0.0161 - accuracy: 0.9957\n",
      "Epoch 19/20\n",
      "94/94 [==============================] - 1s 7ms/step - loss: 0.0121 - accuracy: 0.9971\n",
      "Epoch 20/20\n",
      "94/94 [==============================] - 1s 7ms/step - loss: 0.0047 - accuracy: 0.9985\n"
     ]
    }
   ],
   "source": [
    "#model fitting\n",
    "model1 = model.fit(x_train, y_train,batch_size=128, epochs=20)"
   ]
  },
  {
   "cell_type": "markdown",
   "id": "d8a8ef73",
   "metadata": {
    "papermill": {
     "duration": 0.077093,
     "end_time": "2023-10-15T06:39:36.220799",
     "exception": false,
     "start_time": "2023-10-15T06:39:36.143706",
     "status": "completed"
    },
    "tags": []
   },
   "source": [
    "## 8. Check this model by using two metrics, loss and accuracy."
   ]
  },
  {
   "cell_type": "code",
   "execution_count": 14,
   "id": "f6b9fefd",
   "metadata": {
    "execution": {
     "iopub.execute_input": "2023-10-15T06:39:36.391332Z",
     "iopub.status.busy": "2023-10-15T06:39:36.390419Z",
     "iopub.status.idle": "2023-10-15T06:39:36.621805Z",
     "shell.execute_reply": "2023-10-15T06:39:36.622288Z",
     "shell.execute_reply.started": "2023-10-15T06:35:07.381844Z"
    },
    "papermill": {
     "duration": 0.325545,
     "end_time": "2023-10-15T06:39:36.622454",
     "exception": false,
     "start_time": "2023-10-15T06:39:36.296909",
     "status": "completed"
    },
    "tags": []
   },
   "outputs": [
    {
     "data": {
      "image/png": "[encoded data removed]",
      "text/plain": [
       "<Figure size 720x360 with 2 Axes>"
      ]
     },
     "metadata": {
      "needs_background": "light"
     },
     "output_type": "display_data"
    }
   ],
   "source": [
    "#Check this model by using two metrics, loss and accuracy.\n",
    "metrics = ['loss', 'accuracy']\n",
    "#show the evaluation result by using matoplot.\n",
    "plt.figure(figsize=(10, 5))\n",
    "#Use \"For Loop\".\n",
    "for i in range(len(metrics)):\n",
    "    metric = metrics[i]\n",
    "    #set subplots to show the result\n",
    "    plt.subplot(1, 2, i+1)\n",
    "    #Titles of subplots are \"loss\" and \"accuracy\"\n",
    "    plt.title(metric) \n",
    "    plt_train1 = model1.history[metric] \n",
    "\n",
    "    #plot them all\n",
    "    plt.plot(plt_train1, label='train1') \n",
    "    plt.legend() \n",
    "plt.show()"
   ]
  },
  {
   "cell_type": "code",
   "execution_count": 15,
   "id": "179291b3",
   "metadata": {
    "execution": {
     "iopub.execute_input": "2023-10-15T06:39:36.808762Z",
     "iopub.status.busy": "2023-10-15T06:39:36.806060Z",
     "iopub.status.idle": "2023-10-15T06:39:36.934829Z",
     "shell.execute_reply": "2023-10-15T06:39:36.935316Z",
     "shell.execute_reply.started": "2023-10-15T06:35:07.690833Z"
    },
    "papermill": {
     "duration": 0.232971,
     "end_time": "2023-10-15T06:39:36.935492",
     "exception": false,
     "start_time": "2023-10-15T06:39:36.702521",
     "status": "completed"
    },
    "tags": []
   },
   "outputs": [
    {
     "data": {
      "text/plain": [
       "<matplotlib.image.AxesImage at 0x7c8bebd32210>"
      ]
     },
     "execution_count": 15,
     "metadata": {},
     "output_type": "execute_result"
    },
    {
     "data": {
      "image/png": "[encoded data removed]",
      "text/plain": [
       "<Figure size 432x288 with 1 Axes>"
      ]
     },
     "metadata": {
      "needs_background": "light"
     },
     "output_type": "display_data"
    }
   ],
   "source": [
    "i=100\n",
    "#Here is the prediction sample.\n",
    "plt.imshow(x_test[[i]].reshape(64,64),cmap='Greys')"
   ]
  },
  {
   "cell_type": "code",
   "execution_count": 16,
   "id": "73c886a7",
   "metadata": {
    "execution": {
     "iopub.execute_input": "2023-10-15T06:39:37.098550Z",
     "iopub.status.busy": "2023-10-15T06:39:37.097571Z",
     "iopub.status.idle": "2023-10-15T06:39:37.227864Z",
     "shell.execute_reply": "2023-10-15T06:39:37.227252Z",
     "shell.execute_reply.started": "2023-10-15T06:35:07.913786Z"
    },
    "papermill": {
     "duration": 0.21466,
     "end_time": "2023-10-15T06:39:37.227999",
     "exception": false,
     "start_time": "2023-10-15T06:39:37.013339",
     "status": "completed"
    },
    "tags": []
   },
   "outputs": [
    {
     "data": {
      "text/plain": [
       "array([[5.8797954e-37, 3.8212701e-04, 6.4834952e-27, 8.9981634e-23,\n",
       "        2.0031701e-17, 3.3705969e-17, 9.9961782e-01, 1.2303382e-24,\n",
       "        0.0000000e+00, 7.4545319e-31, 3.8026401e-24, 1.2595357e-14,\n",
       "        4.0289872e-24, 9.2442064e-25, 2.8822434e-32]], dtype=float32)"
      ]
     },
     "execution_count": 16,
     "metadata": {},
     "output_type": "execute_result"
    }
   ],
   "source": [
    "#Let's predict.\n",
    "prediction=model.predict(x_test[[i]]) \n",
    "prediction"
   ]
  },
  {
   "cell_type": "markdown",
   "id": "18fd8cc2",
   "metadata": {
    "papermill": {
     "duration": 0.079059,
     "end_time": "2023-10-15T06:39:37.396162",
     "exception": false,
     "start_time": "2023-10-15T06:39:37.317103",
     "status": "completed"
    },
    "tags": []
   },
   "source": [
    "## 10. Let's check the result."
   ]
  },
  {
   "cell_type": "code",
   "execution_count": 17,
   "id": "7e29ab94",
   "metadata": {
    "execution": {
     "iopub.execute_input": "2023-10-15T06:39:37.561369Z",
     "iopub.status.busy": "2023-10-15T06:39:37.560693Z",
     "iopub.status.idle": "2023-10-15T06:39:37.564307Z",
     "shell.execute_reply": "2023-10-15T06:39:37.564836Z",
     "shell.execute_reply.started": "2023-10-15T06:35:58.969352Z"
    },
    "papermill": {
     "duration": 0.087981,
     "end_time": "2023-10-15T06:39:37.564985",
     "exception": false,
     "start_time": "2023-10-15T06:39:37.477004",
     "status": "completed"
    },
    "tags": []
   },
   "outputs": [
    {
     "name": "stdout",
     "output_type": "stream",
     "text": [
      "The answer is 五 . :-)\n"
     ]
    }
   ],
   "source": [
    "#Let's check the result.\n",
    "print(\"The answer is\",dic[np.argmax(prediction)],\". :-)\")"
   ]
  },
  {
   "cell_type": "code",
   "execution_count": null,
   "id": "e9926366",
   "metadata": {
    "papermill": {
     "duration": 0.077635,
     "end_time": "2023-10-15T06:39:37.722210",
     "exception": false,
     "start_time": "2023-10-15T06:39:37.644575",
     "status": "completed"
    },
    "tags": []
   },
   "outputs": [],
   "source": []
  },
  {
   "cell_type": "code",
   "execution_count": null,
   "id": "5c02802d",
   "metadata": {
    "papermill": {
     "duration": 0.087892,
     "end_time": "2023-10-15T06:39:37.888974",
     "exception": false,
     "start_time": "2023-10-15T06:39:37.801082",
     "status": "completed"
    },
    "tags": []
   },
   "outputs": [],
   "source": []
  }
 ],
 "metadata": {
  "kernelspec": {
   "display_name": "Python 3",
   "language": "python",
   "name": "python3"
  },
  "language_info": {
   "codemirror_mode": {
    "name": "ipython",
    "version": 3
   },
   "file_extension": ".py",
   "mimetype": "text/x-python",
   "name": "python",
   "nbconvert_exporter": "python",
   "pygments_lexer": "ipython3",
   "version": "3.7.10"
  },
  "papermill": {
   "default_parameters": {},
   "duration": 53.714021,
   "end_time": "2023-10-15T06:39:41.051215",
   "environment_variables": {},
   "exception": null,
   "input_path": "__notebook__.ipynb",
   "output_path": "__notebook__.ipynb",
   "parameters": {},
   "start_time": "2023-10-15T06:38:47.337194",
   "version": "2.3.3"
  }
 },
 "nbformat": 4,
 "nbformat_minor": 5
}
